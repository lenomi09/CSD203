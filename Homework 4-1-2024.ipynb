{
 "cells": [
  {
   "cell_type": "code",
   "execution_count": 1,
   "id": "e567b91b",
   "metadata": {},
   "outputs": [
    {
     "name": "stdout",
     "output_type": "stream",
     "text": [
      "Enter the elements of list: 5\n",
      "Element 1: -3\n",
      "Element 2: 0\n",
      "Element 3: 6\n",
      "Element 4: -2\n",
      "Element 5: 5\n",
      "The average value of list is: 1.2\n",
      "The position of the element which has value nearest to the average of the array is: 1\n"
     ]
    }
   ],
   "source": [
    "#Problem 1\n",
    "\n",
    "n = int(input('Enter the elements of list: '))\n",
    "blist = []\n",
    "for i in range(1, n+1):\n",
    "    e = input(f'Element {i}: ')\n",
    "    blist.append(int(e))    \n",
    "s = 0\n",
    "for j in blist:\n",
    "    s += j\n",
    "avg = s/len(blist)\n",
    "alist = []\n",
    "for k in blist:\n",
    "    v = k - avg\n",
    "    if v >= 0:\n",
    "        alist.append(v)\n",
    "    else:\n",
    "        alist.append(-v)\n",
    "position = alist.index(min(alist))\n",
    "print(f'The average value of list is: {avg}')\n",
    "print(f'The position of the element which has value nearest to the average of the array is: {position}')"
   ]
  },
  {
   "cell_type": "code",
   "execution_count": 1,
   "id": "14a7f775",
   "metadata": {},
   "outputs": [
    {
     "name": "stdout",
     "output_type": "stream",
     "text": [
      "Enter the grade in decimal system: 8.3\n",
      "Alphabet grade: B\n",
      "4th grade: 3\n"
     ]
    }
   ],
   "source": [
    "#Problem 2\n",
    "\n",
    "while True:\n",
    "    grade = float(input('Enter the grade in decimal system: '))\n",
    "    if 0 <= grade <= 10:\n",
    "        break\n",
    "    else:\n",
    "        print('Invalid grade')\n",
    "if grade >= 8.5 and grade <= 10.0:\n",
    "    print('Alphabet grade: A\\n4th grade: 4')\n",
    "elif grade >= 7.0 and grade < 8.5:\n",
    "    print('Alphabet grade: B\\n4th grade: 3')\n",
    "elif grade >= 5.5 and grade < 7.0:\n",
    "    print('Alphabet grade: C\\n4th grade: 2')\n",
    "elif grade >= 4.0 and grade < 5.5:\n",
    "    print('Alphabet grade: D\\n4th grade: 1')\n",
    "else:\n",
    "    print('Alphabet grade: F\\n4th grade: 0')"
   ]
  },
  {
   "cell_type": "code",
   "execution_count": 2,
   "id": "0f1ff35e",
   "metadata": {},
   "outputs": [
    {
     "name": "stdout",
     "output_type": "stream",
     "text": [
      "Enter the elements of list: 5\n",
      "Element 1: 3\n",
      "Element 2: 4\n",
      "Element 3: 1\n",
      "Element 4: 3\n",
      "Element 5: 1\n",
      "Input: [3, 4, 1, 3, 1]\n",
      "Output: [3, 4, 1]\n"
     ]
    }
   ],
   "source": [
    "#Problem 3\n",
    "\n",
    "n = int(input('Enter the elements of list: '))\n",
    "blist = []\n",
    "for i in range(1, n+1):\n",
    "    e = input(f'Element {i}: ')\n",
    "    blist.append(int(e))    \n",
    "alist = []\n",
    "for j in blist:\n",
    "    if j not in alist:\n",
    "        alist.append(j)\n",
    "print(f'Input: {blist}')\n",
    "print(f'Output: {alist}')"
   ]
  },
  {
   "cell_type": "code",
   "execution_count": null,
   "id": "d25746b4",
   "metadata": {},
   "outputs": [],
   "source": []
  }
 ],
 "metadata": {
  "kernelspec": {
   "display_name": "Python 3 (ipykernel)",
   "language": "python",
   "name": "python3"
  },
  "language_info": {
   "codemirror_mode": {
    "name": "ipython",
    "version": 3
   },
   "file_extension": ".py",
   "mimetype": "text/x-python",
   "name": "python",
   "nbconvert_exporter": "python",
   "pygments_lexer": "ipython3",
   "version": "3.11.5"
  }
 },
 "nbformat": 4,
 "nbformat_minor": 5
}
