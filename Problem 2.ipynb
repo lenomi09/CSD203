{
 "cells": [
  {
   "cell_type": "code",
   "execution_count": 1,
   "id": "25b8adfc",
   "metadata": {},
   "outputs": [
    {
     "name": "stdout",
     "output_type": "stream",
     "text": [
      "Enter the grade in decimal system: 8.3\n",
      "Alphabet grade: B\n",
      "4th grade: 3\n"
     ]
    }
   ],
   "source": [
    "while True:\n",
    "    grade = float(input('Enter the grade in decimal system: '))\n",
    "    if 0 <= grade <= 10:\n",
    "        break\n",
    "    else:\n",
    "        print('Invalid grade')\n",
    "if grade >= 8.5 and grade <= 10.0:\n",
    "    print('Alphabet grade: A\\n4th grade: 4')\n",
    "elif grade >= 7.0 and grade < 8.5:\n",
    "    print('Alphabet grade: B\\n4th grade: 3')\n",
    "elif grade >= 5.5 and grade < 7.0:\n",
    "    print('Alphabet grade: C\\n4th grade: 2')\n",
    "elif grade >= 4.0 and grade < 5.5:\n",
    "    print('Alphabet grade: D\\n4th grade: 1')\n",
    "else:\n",
    "    print('Alphabet grade: F\\n4th grade: 0')"
   ]
  },
  {
   "cell_type": "code",
   "execution_count": null,
   "id": "4e9a6d7d",
   "metadata": {},
   "outputs": [],
   "source": []
  }
 ],
 "metadata": {
  "kernelspec": {
   "display_name": "Python 3 (ipykernel)",
   "language": "python",
   "name": "python3"
  },
  "language_info": {
   "codemirror_mode": {
    "name": "ipython",
    "version": 3
   },
   "file_extension": ".py",
   "mimetype": "text/x-python",
   "name": "python",
   "nbconvert_exporter": "python",
   "pygments_lexer": "ipython3",
   "version": "3.11.5"
  }
 },
 "nbformat": 4,
 "nbformat_minor": 5
}
