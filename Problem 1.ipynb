{
 "cells": [
  {
   "cell_type": "code",
   "execution_count": 1,
   "id": "e567b91b",
   "metadata": {},
   "outputs": [
    {
     "name": "stdout",
     "output_type": "stream",
     "text": [
      "Enter the elements of list: 5\n",
      "Element 1: -3\n",
      "Element 2: 0\n",
      "Element 3: 6\n",
      "Element 4: -2\n",
      "Element 5: 5\n",
      "The average value of list is: 1.2\n",
      "The position of the element which has value nearest to the average of the array is: 1\n"
     ]
    }
   ],
   "source": [
    "n = int(input('Enter the elements of list: '))\n",
    "blist = []\n",
    "for i in range(1, n+1):\n",
    "    e = input(f'Element {i}: ')\n",
    "    blist.append(int(e))    \n",
    "s = 0\n",
    "for j in blist:\n",
    "    s += j\n",
    "avg = s/len(blist)\n",
    "alist = []\n",
    "for k in blist:\n",
    "    v = k - avg\n",
    "    if v >= 0:\n",
    "        alist.append(v)\n",
    "    else:\n",
    "        alist.append(-v)\n",
    "position = alist.index(min(alist))\n",
    "print(f'The average value of list is: {avg}')\n",
    "print(f'The position of the element which has value nearest to the average of the array is: {position}')"
   ]
  },
  {
   "cell_type": "code",
   "execution_count": null,
   "id": "14a7f775",
   "metadata": {},
   "outputs": [],
   "source": []
  }
 ],
 "metadata": {
  "kernelspec": {
   "display_name": "Python 3 (ipykernel)",
   "language": "python",
   "name": "python3"
  },
  "language_info": {
   "codemirror_mode": {
    "name": "ipython",
    "version": 3
   },
   "file_extension": ".py",
   "mimetype": "text/x-python",
   "name": "python",
   "nbconvert_exporter": "python",
   "pygments_lexer": "ipython3",
   "version": "3.11.5"
  }
 },
 "nbformat": 4,
 "nbformat_minor": 5
}
